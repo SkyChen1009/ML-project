{
  "cells": [
    {
      "cell_type": "markdown",
      "metadata": {
        "id": "view-in-github",
        "colab_type": "text"
      },
      "source": [
        "<a href=\"https://colab.research.google.com/github/SkyChen1009/ML-project/blob/main/Store%20Sales%20-%20Time%20Series%20Forecasting.ipynb\" target=\"_parent\"><img src=\"https://colab.research.google.com/assets/colab-badge.svg\" alt=\"Open In Colab\"/></a>"
      ]
    },
    {
      "cell_type": "code",
      "execution_count": 29,
      "metadata": {
        "colab": {
          "base_uri": "https://localhost:8080/"
        },
        "id": "aZmber_Uccqb",
        "outputId": "c5ea4fec-5c91-4263-9f93-8e1ace32057b"
      },
      "outputs": [
        {
          "output_type": "stream",
          "name": "stdout",
          "text": [
            "Requirement already satisfied: kaggle in /usr/local/lib/python3.10/dist-packages (1.6.17)\n",
            "Requirement already satisfied: six>=1.10 in /usr/local/lib/python3.10/dist-packages (from kaggle) (1.16.0)\n",
            "Requirement already satisfied: certifi>=2023.7.22 in /usr/local/lib/python3.10/dist-packages (from kaggle) (2024.8.30)\n",
            "Requirement already satisfied: python-dateutil in /usr/local/lib/python3.10/dist-packages (from kaggle) (2.8.2)\n",
            "Requirement already satisfied: requests in /usr/local/lib/python3.10/dist-packages (from kaggle) (2.32.3)\n",
            "Requirement already satisfied: tqdm in /usr/local/lib/python3.10/dist-packages (from kaggle) (4.66.6)\n",
            "Requirement already satisfied: python-slugify in /usr/local/lib/python3.10/dist-packages (from kaggle) (8.0.4)\n",
            "Requirement already satisfied: urllib3 in /usr/local/lib/python3.10/dist-packages (from kaggle) (2.2.3)\n",
            "Requirement already satisfied: bleach in /usr/local/lib/python3.10/dist-packages (from kaggle) (6.2.0)\n",
            "Requirement already satisfied: webencodings in /usr/local/lib/python3.10/dist-packages (from bleach->kaggle) (0.5.1)\n",
            "Requirement already satisfied: text-unidecode>=1.3 in /usr/local/lib/python3.10/dist-packages (from python-slugify->kaggle) (1.3)\n",
            "Requirement already satisfied: charset-normalizer<4,>=2 in /usr/local/lib/python3.10/dist-packages (from requests->kaggle) (3.4.0)\n",
            "Requirement already satisfied: idna<4,>=2.5 in /usr/local/lib/python3.10/dist-packages (from requests->kaggle) (3.10)\n"
          ]
        }
      ],
      "source": [
        "!pip install kaggle\n",
        "import numpy as np\n",
        "import pandas as pd\n",
        "import xgboost as xg\n",
        "import os\n",
        "import matplotlib.pyplot as plt\n",
        "import tensorflow as tf\n",
        "from sklearn.linear_model import LinearRegression\n",
        "from sklearn.preprocessing import LabelEncoder\n",
        "from sklearn.model_selection import train_test_split\n",
        "from sklearn.metrics import mean_squared_log_error\n",
        "from sklearn.ensemble import HistGradientBoostingRegressor\n",
        "from pickle import FALSE\n",
        "%matplotlib inline"
      ]
    },
    {
      "cell_type": "code",
      "execution_count": 30,
      "metadata": {
        "colab": {
          "base_uri": "https://localhost:8080/"
        },
        "id": "AY4hTZY5obiw",
        "outputId": "1f9b964c-f997-4fa7-b292-dc642b7b5fc8"
      },
      "outputs": [
        {
          "output_type": "stream",
          "name": "stdout",
          "text": [
            "mkdir: cannot create directory ‘/root/.kaggle’: File exists\n",
            "cp: cannot stat 'kaggle.json': No such file or directory\n",
            "chmod: cannot access '/root/.kaggle/kaggle.json': No such file or directory\n",
            "Traceback (most recent call last):\n",
            "  File \"/usr/local/bin/kaggle\", line 5, in <module>\n",
            "    from kaggle.cli import main\n",
            "  File \"/usr/local/lib/python3.10/dist-packages/kaggle/__init__.py\", line 7, in <module>\n",
            "    api.authenticate()\n",
            "  File \"/usr/local/lib/python3.10/dist-packages/kaggle/api/kaggle_api_extended.py\", line 407, in authenticate\n",
            "    raise IOError('Could not find {}. Make sure it\\'s located in'\n",
            "OSError: Could not find kaggle.json. Make sure it's located in /root/.kaggle. Or use the environment method. See setup instructions at https://github.com/Kaggle/kaggle-api/\n"
          ]
        }
      ],
      "source": [
        "! mkdir ~/.kaggle\n",
        "! cp kaggle.json ~/.kaggle/\n",
        "! chmod 600 ~/.kaggle/kaggle.json\n",
        "! kaggle competitions download -c store-sales-time-series-forecasting"
      ]
    },
    {
      "cell_type": "code",
      "execution_count": 31,
      "metadata": {
        "colab": {
          "base_uri": "https://localhost:8080/"
        },
        "id": "iU2JcsT474M1",
        "outputId": "5e8d1e1e-80b4-4bab-ef5d-6801d44cc458"
      },
      "outputs": [
        {
          "output_type": "stream",
          "name": "stdout",
          "text": [
            "unzip:  cannot find or open store-sales-time-series-forecasting, store-sales-time-series-forecasting.zip or store-sales-time-series-forecasting.ZIP.\n"
          ]
        }
      ],
      "source": [
        "!unzip store-sales-time-series-forecasting"
      ]
    },
    {
      "cell_type": "markdown",
      "source": [
        "# Load datasets"
      ],
      "metadata": {
        "id": "AxnqfMYVdU3S"
      }
    },
    {
      "cell_type": "code",
      "execution_count": 33,
      "metadata": {
        "id": "o-ALhGhO-BDK"
      },
      "outputs": [],
      "source": [
        "train = pd.read_csv(\"../content/train.csv\")           # Training data with sales information\n",
        "test = pd.read_csv(\"../content/test.csv\")            # Test data for predictions\n",
        "stores = pd.read_csv(\"../content/stores.csv\")          # Store-specific metadata\n",
        "sub = pd.read_csv(\"../content/sample_submission.csv\")      # Sample submission format\n",
        "transactions = pd.read_csv(\"../content/transactions.csv\")    # Transaction counts\n",
        "oil = pd.read_csv(\"../content/oil.csv\")             # Oil price data\n",
        "holidays_events = pd.read_csv(\"../content/holidays_events.csv\") # Holidays and event data"
      ]
    },
    {
      "cell_type": "markdown",
      "source": [
        "# Fill missing values in oil prices with the mean"
      ],
      "metadata": {
        "id": "3anOrULKdhkG"
      }
    },
    {
      "cell_type": "code",
      "execution_count": 34,
      "metadata": {
        "id": "BgQwTiO9P1x5",
        "colab": {
          "base_uri": "https://localhost:8080/"
        },
        "outputId": "2ee215a5-7b41-4dfd-9743-47d8b6806353"
      },
      "outputs": [
        {
          "output_type": "stream",
          "name": "stderr",
          "text": [
            "<ipython-input-34-3d495a20026e>:2: FutureWarning: A value is trying to be set on a copy of a DataFrame or Series through chained assignment using an inplace method.\n",
            "The behavior will change in pandas 3.0. This inplace method will never work because the intermediate object on which we are setting values always behaves as a copy.\n",
            "\n",
            "For example, when doing 'df[col].method(value, inplace=True)', try using 'df.method({col: value}, inplace=True)' or df[col] = df[col].method(value) instead, to perform the operation inplace on the original object.\n",
            "\n",
            "\n",
            "  oil['dcoilwtico'].fillna(oil_mean, inplace=True)\n"
          ]
        }
      ],
      "source": [
        "oil_mean=oil['dcoilwtico'].mean()\n",
        "oil['dcoilwtico'].fillna(oil_mean, inplace=True)"
      ]
    },
    {
      "cell_type": "markdown",
      "source": [
        "# Merge oil data with train and test sets on date"
      ],
      "metadata": {
        "id": "y1P0Jqe0S-5L"
      }
    },
    {
      "cell_type": "code",
      "source": [
        "train=train.merge(oil, how='left', on='date')\n",
        "train['dcoilwtico'].fillna(oil_mean, inplace=True)\n",
        "test=test.merge(oil, how='left', on='date')\n",
        "test['dcoilwtico'].fillna(oil_mean, inplace=True)"
      ],
      "metadata": {
        "colab": {
          "base_uri": "https://localhost:8080/"
        },
        "id": "PCbV7rbSS5hY",
        "outputId": "c88d6275-66e9-4646-de74-e4192d927527"
      },
      "execution_count": 35,
      "outputs": [
        {
          "output_type": "stream",
          "name": "stderr",
          "text": [
            "<ipython-input-35-14ec24b32ac7>:2: FutureWarning: A value is trying to be set on a copy of a DataFrame or Series through chained assignment using an inplace method.\n",
            "The behavior will change in pandas 3.0. This inplace method will never work because the intermediate object on which we are setting values always behaves as a copy.\n",
            "\n",
            "For example, when doing 'df[col].method(value, inplace=True)', try using 'df.method({col: value}, inplace=True)' or df[col] = df[col].method(value) instead, to perform the operation inplace on the original object.\n",
            "\n",
            "\n",
            "  train['dcoilwtico'].fillna(oil_mean, inplace=True)\n",
            "<ipython-input-35-14ec24b32ac7>:4: FutureWarning: A value is trying to be set on a copy of a DataFrame or Series through chained assignment using an inplace method.\n",
            "The behavior will change in pandas 3.0. This inplace method will never work because the intermediate object on which we are setting values always behaves as a copy.\n",
            "\n",
            "For example, when doing 'df[col].method(value, inplace=True)', try using 'df.method({col: value}, inplace=True)' or df[col] = df[col].method(value) instead, to perform the operation inplace on the original object.\n",
            "\n",
            "\n",
            "  test['dcoilwtico'].fillna(oil_mean, inplace=True)\n"
          ]
        }
      ]
    },
    {
      "cell_type": "markdown",
      "source": [
        "# Merge store data with train and test sets on store number"
      ],
      "metadata": {
        "id": "j2aAHs4DTGIo"
      }
    },
    {
      "cell_type": "code",
      "source": [
        "train=train.merge(stores, how=\"left\", on=\"store_nbr\")\n",
        "train['store_type']=train['type']\n",
        "train=train.drop(\"type\", axis=1)    # Rename 'type' to 'store_type'\n",
        "test=test.merge(stores, how=\"left\", on=\"store_nbr\")\n",
        "test[\"store_type\"]=test[\"type\"]\n",
        "test=test.drop(\"type\", axis=1)"
      ],
      "metadata": {
        "id": "V0Daxt_ITGm4"
      },
      "execution_count": 36,
      "outputs": []
    },
    {
      "cell_type": "markdown",
      "source": [
        "# Merge holidays and events data with train and test sets on date"
      ],
      "metadata": {
        "id": "owZZBcKvW0Q_"
      }
    },
    {
      "cell_type": "code",
      "source": [
        "train=train.merge(holidays_events, how=\"left\", on=\"date\")\n",
        "train[\"type\"].fillna(\"\", inplace=True)\n",
        "train[\"locale\"].fillna(\"\", inplace=True)\n",
        "train[\"transferred\"].fillna(False, inplace=True)\n",
        "test=test.merge(holidays_events, how=\"left\", on=\"date\")\n",
        "test[\"type\"].fillna(\"\", inplace=True)\n",
        "test[\"locale\"].fillna(\"\", inplace=True)\n",
        "test[\"transferred\"].fillna(False, inplace=True)"
      ],
      "metadata": {
        "colab": {
          "base_uri": "https://localhost:8080/"
        },
        "id": "tsvEDFK-W0cQ",
        "outputId": "73c353bd-3e33-4505-cd70-fc149806de7b"
      },
      "execution_count": 37,
      "outputs": [
        {
          "output_type": "stream",
          "name": "stderr",
          "text": [
            "<ipython-input-37-94d9ee222b3f>:2: FutureWarning: A value is trying to be set on a copy of a DataFrame or Series through chained assignment using an inplace method.\n",
            "The behavior will change in pandas 3.0. This inplace method will never work because the intermediate object on which we are setting values always behaves as a copy.\n",
            "\n",
            "For example, when doing 'df[col].method(value, inplace=True)', try using 'df.method({col: value}, inplace=True)' or df[col] = df[col].method(value) instead, to perform the operation inplace on the original object.\n",
            "\n",
            "\n",
            "  train[\"type\"].fillna(\"\", inplace=True)\n",
            "<ipython-input-37-94d9ee222b3f>:3: FutureWarning: A value is trying to be set on a copy of a DataFrame or Series through chained assignment using an inplace method.\n",
            "The behavior will change in pandas 3.0. This inplace method will never work because the intermediate object on which we are setting values always behaves as a copy.\n",
            "\n",
            "For example, when doing 'df[col].method(value, inplace=True)', try using 'df.method({col: value}, inplace=True)' or df[col] = df[col].method(value) instead, to perform the operation inplace on the original object.\n",
            "\n",
            "\n",
            "  train[\"locale\"].fillna(\"\", inplace=True)\n",
            "<ipython-input-37-94d9ee222b3f>:4: FutureWarning: A value is trying to be set on a copy of a DataFrame or Series through chained assignment using an inplace method.\n",
            "The behavior will change in pandas 3.0. This inplace method will never work because the intermediate object on which we are setting values always behaves as a copy.\n",
            "\n",
            "For example, when doing 'df[col].method(value, inplace=True)', try using 'df.method({col: value}, inplace=True)' or df[col] = df[col].method(value) instead, to perform the operation inplace on the original object.\n",
            "\n",
            "\n",
            "  train[\"transferred\"].fillna(False, inplace=True)\n",
            "<ipython-input-37-94d9ee222b3f>:4: FutureWarning: Downcasting object dtype arrays on .fillna, .ffill, .bfill is deprecated and will change in a future version. Call result.infer_objects(copy=False) instead. To opt-in to the future behavior, set `pd.set_option('future.no_silent_downcasting', True)`\n",
            "  train[\"transferred\"].fillna(False, inplace=True)\n",
            "<ipython-input-37-94d9ee222b3f>:6: FutureWarning: A value is trying to be set on a copy of a DataFrame or Series through chained assignment using an inplace method.\n",
            "The behavior will change in pandas 3.0. This inplace method will never work because the intermediate object on which we are setting values always behaves as a copy.\n",
            "\n",
            "For example, when doing 'df[col].method(value, inplace=True)', try using 'df.method({col: value}, inplace=True)' or df[col] = df[col].method(value) instead, to perform the operation inplace on the original object.\n",
            "\n",
            "\n",
            "  test[\"type\"].fillna(\"\", inplace=True)\n",
            "<ipython-input-37-94d9ee222b3f>:7: FutureWarning: A value is trying to be set on a copy of a DataFrame or Series through chained assignment using an inplace method.\n",
            "The behavior will change in pandas 3.0. This inplace method will never work because the intermediate object on which we are setting values always behaves as a copy.\n",
            "\n",
            "For example, when doing 'df[col].method(value, inplace=True)', try using 'df.method({col: value}, inplace=True)' or df[col] = df[col].method(value) instead, to perform the operation inplace on the original object.\n",
            "\n",
            "\n",
            "  test[\"locale\"].fillna(\"\", inplace=True)\n",
            "<ipython-input-37-94d9ee222b3f>:8: FutureWarning: A value is trying to be set on a copy of a DataFrame or Series through chained assignment using an inplace method.\n",
            "The behavior will change in pandas 3.0. This inplace method will never work because the intermediate object on which we are setting values always behaves as a copy.\n",
            "\n",
            "For example, when doing 'df[col].method(value, inplace=True)', try using 'df.method({col: value}, inplace=True)' or df[col] = df[col].method(value) instead, to perform the operation inplace on the original object.\n",
            "\n",
            "\n",
            "  test[\"transferred\"].fillna(False, inplace=True)\n",
            "<ipython-input-37-94d9ee222b3f>:8: FutureWarning: Downcasting object dtype arrays on .fillna, .ffill, .bfill is deprecated and will change in a future version. Call result.infer_objects(copy=False) instead. To opt-in to the future behavior, set `pd.set_option('future.no_silent_downcasting', True)`\n",
            "  test[\"transferred\"].fillna(False, inplace=True)\n"
          ]
        }
      ]
    },
    {
      "cell_type": "markdown",
      "source": [
        "# Encode categorical features using LabelEncoder"
      ],
      "metadata": {
        "id": "Bhr4Dam5W6Ey"
      }
    },
    {
      "cell_type": "code",
      "execution_count": 38,
      "metadata": {
        "id": "VPTCnzlgRXN5"
      },
      "outputs": [],
      "source": [
        "label_encoder=LabelEncoder()\n",
        "object_columns=['date', 'family', 'city', 'state', 'type', 'cluster', \"store_type\", \"locale\", \"transferred\"]\n",
        "for column in object_columns:\n",
        "  combined_data=pd.concat([train[column], test[column]], axis=0)\n",
        "  label_encoder.fit(combined_data)\n",
        "  train[column]=label_encoder.transform(train[column])\n",
        "  test[column]=label_encoder.transform(test[column])"
      ]
    },
    {
      "cell_type": "markdown",
      "source": [
        "# Drop unnecessary features from train and test sets"
      ],
      "metadata": {
        "id": "epj4CTjQXCt0"
      }
    },
    {
      "cell_type": "code",
      "execution_count": 39,
      "metadata": {
        "id": "p4-yWMkFSRIa"
      },
      "outputs": [],
      "source": [
        "feature_to_drop=['id', \"description\", \"locale_name\"]\n",
        "train=train.drop(feature_to_drop, axis=1)\n",
        "test=test.drop(feature_to_drop, axis=1)"
      ]
    },
    {
      "cell_type": "markdown",
      "source": [
        "# Prepare features and target variable for model training"
      ],
      "metadata": {
        "id": "rsJLgXMzXE6z"
      }
    },
    {
      "cell_type": "code",
      "source": [
        "X=train.drop(['sales'], axis=1)     # Features\n",
        "y=train['sales']             # Target variable (sales)\n",
        "X_train, X_test, y_train, y_test=train_test_split(X, y, test_size=0.2, random_state=42)"
      ],
      "metadata": {
        "id": "BtbIen3_XJgN"
      },
      "execution_count": 40,
      "outputs": []
    },
    {
      "cell_type": "markdown",
      "source": [
        "# Train a Linear Regression model"
      ],
      "metadata": {
        "id": "SJwKmXYaXgT9"
      }
    },
    {
      "cell_type": "code",
      "execution_count": 41,
      "metadata": {
        "colab": {
          "base_uri": "https://localhost:8080/"
        },
        "id": "A_yvY-dhVzZb",
        "outputId": "4d194151-27c2-4e06-debb-a320679f4b9d"
      },
      "outputs": [
        {
          "output_type": "stream",
          "name": "stdout",
          "text": [
            "3.630397867661413\n"
          ]
        },
        {
          "output_type": "stream",
          "name": "stderr",
          "text": [
            "/usr/local/lib/python3.10/dist-packages/sklearn/metrics/_regression.py:675: FutureWarning: 'squared' is deprecated in version 1.4 and will be removed in 1.6. To calculate the root mean squared logarithmic error, use the function'root_mean_squared_log_error'.\n",
            "  warnings.warn(\n"
          ]
        }
      ],
      "source": [
        "model=LinearRegression()\n",
        "model.fit(X_train, y_train)\n",
        "y_pred=model.predict(X_test)\n",
        "y_pred=np.array([max(i, 0) for i in y_pred])\n",
        "print(mean_squared_log_error(y_pred, y_test, squared=False))"
      ]
    },
    {
      "cell_type": "markdown",
      "source": [
        "# Train a Histogram-based Gradient Boosting Regressor model"
      ],
      "metadata": {
        "id": "sNPosipAXmmo"
      }
    },
    {
      "cell_type": "code",
      "source": [
        "HGBR_model=HistGradientBoostingRegressor(max_iter=3000)\n",
        "HGBR_model.fit(X_train, y_train)\n",
        "y_pred=HGBR_model.predict(X_test)\n",
        "y_pred=np.array([max(i,0) for i in y_pred])\n",
        "print(mean_squared_log_error(y_pred, y_test, squared=False))"
      ],
      "metadata": {
        "colab": {
          "base_uri": "https://localhost:8080/"
        },
        "id": "TIG14boCXl-M",
        "outputId": "68492036-dd21-4249-d6e5-7ca6d44ce2ca"
      },
      "execution_count": 42,
      "outputs": [
        {
          "output_type": "stream",
          "name": "stdout",
          "text": [
            "1.5328567944760507\n"
          ]
        },
        {
          "output_type": "stream",
          "name": "stderr",
          "text": [
            "/usr/local/lib/python3.10/dist-packages/sklearn/metrics/_regression.py:675: FutureWarning: 'squared' is deprecated in version 1.4 and will be removed in 1.6. To calculate the root mean squared logarithmic error, use the function'root_mean_squared_log_error'.\n",
            "  warnings.warn(\n"
          ]
        }
      ]
    },
    {
      "cell_type": "markdown",
      "source": [
        "# Train an XGBoost Regressor model"
      ],
      "metadata": {
        "id": "XhsOpdrWXpiK"
      }
    },
    {
      "cell_type": "code",
      "execution_count": 43,
      "metadata": {
        "id": "edIhoMy2X8X-"
      },
      "outputs": [],
      "source": [
        "XGB_model=xg.XGBRegressor(n_estimators=400, learning_rate=0.03, max_depth=12)\n",
        "XGB_model.fit(X_train, y_train)\n",
        "y_pred=XGB_model.predict(X_test)\n",
        "y_pred=np.array([max(i,0) for i in y_pred])"
      ]
    },
    {
      "cell_type": "markdown",
      "source": [
        "# Predict on the test set and save to submission format"
      ],
      "metadata": {
        "id": "Z0pEJDKyXwWx"
      }
    },
    {
      "cell_type": "code",
      "source": [
        "pred = XGB_model.predict(test)\n",
        "pred=np.array([max(i,0) for i in pred])\n",
        "sub['sales']=pred\n",
        "sub.to_csv('/content/sub.csv', index=False, header=True)"
      ],
      "metadata": {
        "id": "gZz5du9XmPOb"
      },
      "execution_count": 44,
      "outputs": []
    }
  ],
  "metadata": {
    "colab": {
      "provenance": [],
      "include_colab_link": true
    },
    "kernelspec": {
      "display_name": "Python 3",
      "name": "python3"
    },
    "language_info": {
      "name": "python"
    }
  },
  "nbformat": 4,
  "nbformat_minor": 0
}