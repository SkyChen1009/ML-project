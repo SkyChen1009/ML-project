{
  "cells": [
    {
      "cell_type": "markdown",
      "metadata": {
        "id": "view-in-github",
        "colab_type": "text"
      },
      "source": [
        "<a href=\"https://colab.research.google.com/github/SkyChen1009/ML-project/blob/main/Store%20Sales%20-%20Time%20Series%20Forecasting.ipynb\" target=\"_parent\"><img src=\"https://colab.research.google.com/assets/colab-badge.svg\" alt=\"Open In Colab\"/></a>"
      ]
    },
    {
      "cell_type": "code",
      "execution_count": 2,
      "metadata": {
        "colab": {
          "base_uri": "https://localhost:8080/"
        },
        "id": "aZmber_Uccqb",
        "outputId": "1675f85e-a75c-4ff6-8ab2-290fd5522294"
      },
      "outputs": [
        {
          "output_type": "stream",
          "name": "stdout",
          "text": [
            "Requirement already satisfied: kaggle in /usr/local/lib/python3.10/dist-packages (1.6.17)\n",
            "Requirement already satisfied: six>=1.10 in /usr/local/lib/python3.10/dist-packages (from kaggle) (1.16.0)\n",
            "Requirement already satisfied: certifi>=2023.7.22 in /usr/local/lib/python3.10/dist-packages (from kaggle) (2024.8.30)\n",
            "Requirement already satisfied: python-dateutil in /usr/local/lib/python3.10/dist-packages (from kaggle) (2.8.2)\n",
            "Requirement already satisfied: requests in /usr/local/lib/python3.10/dist-packages (from kaggle) (2.32.3)\n",
            "Requirement already satisfied: tqdm in /usr/local/lib/python3.10/dist-packages (from kaggle) (4.66.6)\n",
            "Requirement already satisfied: python-slugify in /usr/local/lib/python3.10/dist-packages (from kaggle) (8.0.4)\n",
            "Requirement already satisfied: urllib3 in /usr/local/lib/python3.10/dist-packages (from kaggle) (2.2.3)\n",
            "Requirement already satisfied: bleach in /usr/local/lib/python3.10/dist-packages (from kaggle) (6.2.0)\n",
            "Requirement already satisfied: webencodings in /usr/local/lib/python3.10/dist-packages (from bleach->kaggle) (0.5.1)\n",
            "Requirement already satisfied: text-unidecode>=1.3 in /usr/local/lib/python3.10/dist-packages (from python-slugify->kaggle) (1.3)\n",
            "Requirement already satisfied: charset-normalizer<4,>=2 in /usr/local/lib/python3.10/dist-packages (from requests->kaggle) (3.4.0)\n",
            "Requirement already satisfied: idna<4,>=2.5 in /usr/local/lib/python3.10/dist-packages (from requests->kaggle) (3.10)\n"
          ]
        }
      ],
      "source": [
        "!pip install kaggle\n",
        "import numpy as np\n",
        "import pandas as pd\n",
        "import xgboost as xg\n",
        "import os\n",
        "import matplotlib.pyplot as plt\n",
        "import tensorflow as tf\n",
        "from sklearn.linear_model import LinearRegression\n",
        "from sklearn.preprocessing import LabelEncoder\n",
        "from sklearn.model_selection import train_test_split\n",
        "from sklearn.metrics import mean_squared_log_error\n",
        "from sklearn.ensemble import HistGradientBoostingRegressor\n",
        "from pickle import FALSE\n",
        "%matplotlib inline"
      ]
    },
    {
      "cell_type": "code",
      "execution_count": 3,
      "metadata": {
        "colab": {
          "base_uri": "https://localhost:8080/"
        },
        "id": "AY4hTZY5obiw",
        "outputId": "d85153ee-12e3-4d8a-bdf5-bbf096e07d8c"
      },
      "outputs": [
        {
          "output_type": "stream",
          "name": "stdout",
          "text": [
            "cp: cannot stat 'kaggle.json': No such file or directory\n",
            "chmod: cannot access '/root/.kaggle/kaggle.json': No such file or directory\n",
            "Traceback (most recent call last):\n",
            "  File \"/usr/local/bin/kaggle\", line 5, in <module>\n",
            "    from kaggle.cli import main\n",
            "  File \"/usr/local/lib/python3.10/dist-packages/kaggle/__init__.py\", line 7, in <module>\n",
            "    api.authenticate()\n",
            "  File \"/usr/local/lib/python3.10/dist-packages/kaggle/api/kaggle_api_extended.py\", line 407, in authenticate\n",
            "    raise IOError('Could not find {}. Make sure it\\'s located in'\n",
            "OSError: Could not find kaggle.json. Make sure it's located in /root/.kaggle. Or use the environment method. See setup instructions at https://github.com/Kaggle/kaggle-api/\n"
          ]
        }
      ],
      "source": [
        "! mkdir ~/.kaggle\n",
        "! cp kaggle.json ~/.kaggle/\n",
        "! chmod 600 ~/.kaggle/kaggle.json\n",
        "! kaggle competitions download -c store-sales-time-series-forecasting"
      ]
    },
    {
      "cell_type": "code",
      "execution_count": 4,
      "metadata": {
        "colab": {
          "base_uri": "https://localhost:8080/"
        },
        "id": "iU2JcsT474M1",
        "outputId": "a77b2690-b79c-4124-fbe6-aabbc255978b"
      },
      "outputs": [
        {
          "output_type": "stream",
          "name": "stdout",
          "text": [
            "unzip:  cannot find or open store-sales-time-series-forecasting, store-sales-time-series-forecasting.zip or store-sales-time-series-forecasting.ZIP.\n"
          ]
        }
      ],
      "source": [
        "!unzip store-sales-time-series-forecasting"
      ]
    },
    {
      "cell_type": "markdown",
      "source": [
        "# Load datasets"
      ],
      "metadata": {
        "id": "AxnqfMYVdU3S"
      }
    },
    {
      "cell_type": "code",
      "execution_count": 6,
      "metadata": {
        "id": "o-ALhGhO-BDK"
      },
      "outputs": [],
      "source": [
        "train = pd.read_csv(\"../content/train.csv\")           # Training data with sales information\n",
        "test = pd.read_csv(\"../content/test.csv\")            # Test data for predictions\n",
        "stores = pd.read_csv(\"../content/stores.csv\")          # Store-specific metadata\n",
        "sub = pd.read_csv(\"../content/sample_submission.csv\")      # Sample submission format\n",
        "transactions = pd.read_csv(\"../content/transactions.csv\")    # Transaction counts\n",
        "oil = pd.read_csv(\"../content/oil.csv\")             # Oil price data\n",
        "holidays_events = pd.read_csv(\"../content/holidays_events.csv\") # Holidays and event data"
      ]
    },
    {
      "cell_type": "markdown",
      "source": [
        "# Fill missing values in oil prices with the mean"
      ],
      "metadata": {
        "id": "3anOrULKdhkG"
      }
    },
    {
      "cell_type": "code",
      "execution_count": 7,
      "metadata": {
        "id": "BgQwTiO9P1x5",
        "colab": {
          "base_uri": "https://localhost:8080/"
        },
        "outputId": "67fa049a-9b4b-49da-f46f-7fd9b5e18f61"
      },
      "outputs": [
        {
          "output_type": "stream",
          "name": "stderr",
          "text": [
            "<ipython-input-7-3d495a20026e>:2: FutureWarning: A value is trying to be set on a copy of a DataFrame or Series through chained assignment using an inplace method.\n",
            "The behavior will change in pandas 3.0. This inplace method will never work because the intermediate object on which we are setting values always behaves as a copy.\n",
            "\n",
            "For example, when doing 'df[col].method(value, inplace=True)', try using 'df.method({col: value}, inplace=True)' or df[col] = df[col].method(value) instead, to perform the operation inplace on the original object.\n",
            "\n",
            "\n",
            "  oil['dcoilwtico'].fillna(oil_mean, inplace=True)\n"
          ]
        }
      ],
      "source": [
        "oil_mean=oil['dcoilwtico'].mean()\n",
        "oil['dcoilwtico'].fillna(oil_mean, inplace=True)"
      ]
    },
    {
      "cell_type": "markdown",
      "source": [
        "# Merge oil data with train and test sets on date"
      ],
      "metadata": {
        "id": "y1P0Jqe0S-5L"
      }
    },
    {
      "cell_type": "code",
      "source": [
        "train=train.merge(oil, how='left', on='date')\n",
        "train['dcoilwtico'].fillna(oil_mean, inplace=True)\n",
        "test=test.merge(oil, how='left', on='date')\n",
        "test['dcoilwtico'].fillna(oil_mean, inplace=True)"
      ],
      "metadata": {
        "colab": {
          "base_uri": "https://localhost:8080/"
        },
        "id": "PCbV7rbSS5hY",
        "outputId": "3bf254e3-ac6b-49fc-d123-245a061aacc0"
      },
      "execution_count": 8,
      "outputs": [
        {
          "output_type": "stream",
          "name": "stderr",
          "text": [
            "<ipython-input-8-14ec24b32ac7>:2: FutureWarning: A value is trying to be set on a copy of a DataFrame or Series through chained assignment using an inplace method.\n",
            "The behavior will change in pandas 3.0. This inplace method will never work because the intermediate object on which we are setting values always behaves as a copy.\n",
            "\n",
            "For example, when doing 'df[col].method(value, inplace=True)', try using 'df.method({col: value}, inplace=True)' or df[col] = df[col].method(value) instead, to perform the operation inplace on the original object.\n",
            "\n",
            "\n",
            "  train['dcoilwtico'].fillna(oil_mean, inplace=True)\n",
            "<ipython-input-8-14ec24b32ac7>:4: FutureWarning: A value is trying to be set on a copy of a DataFrame or Series through chained assignment using an inplace method.\n",
            "The behavior will change in pandas 3.0. This inplace method will never work because the intermediate object on which we are setting values always behaves as a copy.\n",
            "\n",
            "For example, when doing 'df[col].method(value, inplace=True)', try using 'df.method({col: value}, inplace=True)' or df[col] = df[col].method(value) instead, to perform the operation inplace on the original object.\n",
            "\n",
            "\n",
            "  test['dcoilwtico'].fillna(oil_mean, inplace=True)\n"
          ]
        }
      ]
    },
    {
      "cell_type": "markdown",
      "source": [
        "# Merge store data with train and test sets on store number"
      ],
      "metadata": {
        "id": "j2aAHs4DTGIo"
      }
    },
    {
      "cell_type": "code",
      "source": [
        "train=train.merge(stores, how=\"left\", on=\"store_nbr\")\n",
        "train['store_type']=train['type']\n",
        "train=train.drop(\"type\", axis=1)    # Rename 'type' to 'store_type'\n",
        "test=test.merge(stores, how=\"left\", on=\"store_nbr\")\n",
        "test[\"store_type\"]=test[\"type\"]\n",
        "test=test.drop(\"type\", axis=1)"
      ],
      "metadata": {
        "id": "V0Daxt_ITGm4"
      },
      "execution_count": 9,
      "outputs": []
    },
    {
      "cell_type": "markdown",
      "source": [
        "# Merge holidays and events data with train and test sets on date"
      ],
      "metadata": {
        "id": "owZZBcKvW0Q_"
      }
    },
    {
      "cell_type": "code",
      "source": [
        "train=train.merge(holidays_events, how=\"left\", on=\"date\")\n",
        "train[\"type\"].fillna(\"\", inplace=True)\n",
        "train[\"locale\"].fillna(\"\", inplace=True)\n",
        "train[\"transferred\"].fillna(False, inplace=True)\n",
        "test=test.merge(holidays_events, how=\"left\", on=\"date\")\n",
        "test[\"type\"].fillna(\"\", inplace=True)\n",
        "test[\"locale\"].fillna(\"\", inplace=True)\n",
        "test[\"transferred\"].fillna(False, inplace=True)"
      ],
      "metadata": {
        "colab": {
          "base_uri": "https://localhost:8080/"
        },
        "id": "tsvEDFK-W0cQ",
        "outputId": "5d10a032-4102-47f2-bdd6-4c61f2c51c86"
      },
      "execution_count": 10,
      "outputs": [
        {
          "output_type": "stream",
          "name": "stderr",
          "text": [
            "<ipython-input-10-94d9ee222b3f>:2: FutureWarning: A value is trying to be set on a copy of a DataFrame or Series through chained assignment using an inplace method.\n",
            "The behavior will change in pandas 3.0. This inplace method will never work because the intermediate object on which we are setting values always behaves as a copy.\n",
            "\n",
            "For example, when doing 'df[col].method(value, inplace=True)', try using 'df.method({col: value}, inplace=True)' or df[col] = df[col].method(value) instead, to perform the operation inplace on the original object.\n",
            "\n",
            "\n",
            "  train[\"type\"].fillna(\"\", inplace=True)\n",
            "<ipython-input-10-94d9ee222b3f>:3: FutureWarning: A value is trying to be set on a copy of a DataFrame or Series through chained assignment using an inplace method.\n",
            "The behavior will change in pandas 3.0. This inplace method will never work because the intermediate object on which we are setting values always behaves as a copy.\n",
            "\n",
            "For example, when doing 'df[col].method(value, inplace=True)', try using 'df.method({col: value}, inplace=True)' or df[col] = df[col].method(value) instead, to perform the operation inplace on the original object.\n",
            "\n",
            "\n",
            "  train[\"locale\"].fillna(\"\", inplace=True)\n",
            "<ipython-input-10-94d9ee222b3f>:4: FutureWarning: A value is trying to be set on a copy of a DataFrame or Series through chained assignment using an inplace method.\n",
            "The behavior will change in pandas 3.0. This inplace method will never work because the intermediate object on which we are setting values always behaves as a copy.\n",
            "\n",
            "For example, when doing 'df[col].method(value, inplace=True)', try using 'df.method({col: value}, inplace=True)' or df[col] = df[col].method(value) instead, to perform the operation inplace on the original object.\n",
            "\n",
            "\n",
            "  train[\"transferred\"].fillna(False, inplace=True)\n",
            "<ipython-input-10-94d9ee222b3f>:4: FutureWarning: Downcasting object dtype arrays on .fillna, .ffill, .bfill is deprecated and will change in a future version. Call result.infer_objects(copy=False) instead. To opt-in to the future behavior, set `pd.set_option('future.no_silent_downcasting', True)`\n",
            "  train[\"transferred\"].fillna(False, inplace=True)\n",
            "<ipython-input-10-94d9ee222b3f>:6: FutureWarning: A value is trying to be set on a copy of a DataFrame or Series through chained assignment using an inplace method.\n",
            "The behavior will change in pandas 3.0. This inplace method will never work because the intermediate object on which we are setting values always behaves as a copy.\n",
            "\n",
            "For example, when doing 'df[col].method(value, inplace=True)', try using 'df.method({col: value}, inplace=True)' or df[col] = df[col].method(value) instead, to perform the operation inplace on the original object.\n",
            "\n",
            "\n",
            "  test[\"type\"].fillna(\"\", inplace=True)\n",
            "<ipython-input-10-94d9ee222b3f>:7: FutureWarning: A value is trying to be set on a copy of a DataFrame or Series through chained assignment using an inplace method.\n",
            "The behavior will change in pandas 3.0. This inplace method will never work because the intermediate object on which we are setting values always behaves as a copy.\n",
            "\n",
            "For example, when doing 'df[col].method(value, inplace=True)', try using 'df.method({col: value}, inplace=True)' or df[col] = df[col].method(value) instead, to perform the operation inplace on the original object.\n",
            "\n",
            "\n",
            "  test[\"locale\"].fillna(\"\", inplace=True)\n",
            "<ipython-input-10-94d9ee222b3f>:8: FutureWarning: A value is trying to be set on a copy of a DataFrame or Series through chained assignment using an inplace method.\n",
            "The behavior will change in pandas 3.0. This inplace method will never work because the intermediate object on which we are setting values always behaves as a copy.\n",
            "\n",
            "For example, when doing 'df[col].method(value, inplace=True)', try using 'df.method({col: value}, inplace=True)' or df[col] = df[col].method(value) instead, to perform the operation inplace on the original object.\n",
            "\n",
            "\n",
            "  test[\"transferred\"].fillna(False, inplace=True)\n",
            "<ipython-input-10-94d9ee222b3f>:8: FutureWarning: Downcasting object dtype arrays on .fillna, .ffill, .bfill is deprecated and will change in a future version. Call result.infer_objects(copy=False) instead. To opt-in to the future behavior, set `pd.set_option('future.no_silent_downcasting', True)`\n",
            "  test[\"transferred\"].fillna(False, inplace=True)\n"
          ]
        }
      ]
    },
    {
      "cell_type": "markdown",
      "source": [
        "# Encode categorical features using LabelEncoder"
      ],
      "metadata": {
        "id": "Bhr4Dam5W6Ey"
      }
    },
    {
      "cell_type": "code",
      "execution_count": 11,
      "metadata": {
        "id": "VPTCnzlgRXN5"
      },
      "outputs": [],
      "source": [
        "label_encoder=LabelEncoder()\n",
        "object_columns=['date', 'family', 'city', 'state', 'type', 'cluster', \"store_type\", \"locale\", \"transferred\"]\n",
        "for column in object_columns:\n",
        "  combined_data=pd.concat([train[column], test[column]], axis=0)\n",
        "  label_encoder.fit(combined_data)\n",
        "  train[column]=label_encoder.transform(train[column])\n",
        "  test[column]=label_encoder.transform(test[column])"
      ]
    },
    {
      "cell_type": "markdown",
      "source": [
        "# Drop unnecessary features from train and test sets"
      ],
      "metadata": {
        "id": "epj4CTjQXCt0"
      }
    },
    {
      "cell_type": "code",
      "execution_count": 12,
      "metadata": {
        "id": "p4-yWMkFSRIa"
      },
      "outputs": [],
      "source": [
        "feature_to_drop=['id', \"description\", \"locale_name\"]\n",
        "train=train.drop(feature_to_drop, axis=1)\n",
        "test=test.drop(feature_to_drop, axis=1)"
      ]
    },
    {
      "cell_type": "markdown",
      "source": [
        "# Prepare features and target variable for model training"
      ],
      "metadata": {
        "id": "rsJLgXMzXE6z"
      }
    },
    {
      "cell_type": "code",
      "source": [
        "X=train.drop(['sales'], axis=1)     # Features\n",
        "y=train['sales']             # Target variable (sales)\n",
        "X_train, X_test, y_train, y_test=train_test_split(X, y, test_size=0.2, random_state=42)"
      ],
      "metadata": {
        "id": "BtbIen3_XJgN"
      },
      "execution_count": 13,
      "outputs": []
    },
    {
      "cell_type": "markdown",
      "source": [
        "# Train a Linear Regression model"
      ],
      "metadata": {
        "id": "SJwKmXYaXgT9"
      }
    },
    {
      "cell_type": "code",
      "execution_count": 14,
      "metadata": {
        "id": "A_yvY-dhVzZb"
      },
      "outputs": [],
      "source": [
        "model=LinearRegression()\n",
        "model.fit(X_train, y_train)\n",
        "y_pred=model.predict(X_test)\n",
        "y_pred=np.array([max(i, 0) for i in y_pred])\n",
        "#print(mean_squared_log_error(y_pred, y_test, squared=False))"
      ]
    },
    {
      "cell_type": "markdown",
      "source": [
        "# Train a Histogram-based Gradient Boosting Regressor model"
      ],
      "metadata": {
        "id": "sNPosipAXmmo"
      }
    },
    {
      "cell_type": "code",
      "source": [
        "HGBR_model=HistGradientBoostingRegressor(max_iter=3000)\n",
        "HGBR_model.fit(X_train, y_train)\n",
        "y_pred=HGBR_model.predict(X_test)\n",
        "y_pred=np.array([max(i,0) for i in y_pred])\n",
        "#print(mean_squared_log_error(y_pred, y_test, squared=False))"
      ],
      "metadata": {
        "id": "TIG14boCXl-M"
      },
      "execution_count": 15,
      "outputs": []
    },
    {
      "cell_type": "markdown",
      "source": [
        "# Train an XGBoost Regressor model"
      ],
      "metadata": {
        "id": "XhsOpdrWXpiK"
      }
    },
    {
      "cell_type": "code",
      "execution_count": 16,
      "metadata": {
        "id": "edIhoMy2X8X-"
      },
      "outputs": [],
      "source": [
        "XGB_model=xg.XGBRegressor(n_estimators=400, learning_rate=0.03, max_depth=12)\n",
        "XGB_model.fit(X_train, y_train)\n",
        "y_pred=XGB_model.predict(X_test)\n",
        "y_pred=np.array([max(i,0) for i in y_pred])"
      ]
    },
    {
      "cell_type": "markdown",
      "source": [
        "# Predict on the test set and save to submission format"
      ],
      "metadata": {
        "id": "Z0pEJDKyXwWx"
      }
    },
    {
      "cell_type": "code",
      "source": [
        "pred = XGB_model.predict(test)\n",
        "pred=np.array([max(i,0) for i in pred])\n",
        "sub['sales']=pred\n",
        "sub.to_csv('/content/sub.csv', index=False, header=True)"
      ],
      "metadata": {
        "id": "gZz5du9XmPOb"
      },
      "execution_count": 17,
      "outputs": []
    },
    {
      "cell_type": "code",
      "source": [],
      "metadata": {
        "id": "FALbcYTHXtJE"
      },
      "execution_count": 17,
      "outputs": []
    }
  ],
  "metadata": {
    "colab": {
      "provenance": [],
      "include_colab_link": true
    },
    "kernelspec": {
      "display_name": "Python 3",
      "name": "python3"
    },
    "language_info": {
      "name": "python"
    }
  },
  "nbformat": 4,
  "nbformat_minor": 0
}